{
 "cells": [
  {
   "cell_type": "code",
   "execution_count": 1,
   "metadata": {},
   "outputs": [
    {
     "name": "stdout",
     "output_type": "stream",
     "text": [
      "Enter ur name, age, contact_number, mail_id respectively (separarted by a comma)kingsman, 140, 1234567891, king@.com\n",
      "Your entered details are\n",
      "Name          : kingsman\n",
      "Age           :  140\n",
      "Conatct_number:  1234567891\n",
      "Mail_ID       :  king@.com\n",
      "Enter \"yes\" if the above details are correct, else enter \"no\" yes\n",
      "\n",
      "You have registered successfully.\n",
      "Would you like to continue.... Enter \"yes\" to submit another response, else enter \"no\" no\n"
     ]
    }
   ],
   "source": [
    "import csv\n",
    "def into_file(l):\n",
    "    with open('project.csv','a',newline='') as file:\n",
    "        write = csv.writer(file)\n",
    "        if file.tell() == 0 :\n",
    "            write.writerow([\"NAME\", \"AGE\", \"CONTACT_NUMBER\", \"MAIL_ID\"])\n",
    "        write.writerow(l)\n",
    "\n",
    "if __name__ == \"__main__\":\n",
    "    con = True\n",
    "    while(con):\n",
    "        info=input(\"Enter ur name, age, contact_number, mail_id respectively (separarted by a comma)\")\n",
    "        info_list=info.split(',')\n",
    "        print(\"Your entered details are\")\n",
    "        print(\"Name          : \"+str(info_list[0]))\n",
    "        print(\"Age           : \"+str(info_list[1]))\n",
    "        print(\"Conatct_number: \"+str(info_list[2]))\n",
    "        print(\"Mail_ID       : \"+str(info_list[3]))\n",
    "        checkid=input(\"Enter \\\"yes\\\" if the above details are correct, else enter \\\"no\\\" \")\n",
    "        if checkid == \"yes\":\n",
    "            into_file(info_list)\n",
    "            print()\n",
    "            print(\"You have registered successfully.\")\n",
    "            qp=input(\"Would you like to continue.... Enter \\\"yes\\\" to submit another response, else enter \\\"no\\\" \")\n",
    "            if qp == \"yes\":\n",
    "                con = True\n",
    "            elif qp == \"no\":\n",
    "                con = False\n",
    "        elif checkid == \"no\":\n",
    "            print()\n",
    "            print(\" Please check for the mistake\")  \n",
    "        "
   ]
  },
  {
   "cell_type": "code",
   "execution_count": null,
   "metadata": {},
   "outputs": [],
   "source": []
  }
 ],
 "metadata": {
  "kernelspec": {
   "display_name": "Python 3",
   "language": "python",
   "name": "python3"
  },
  "language_info": {
   "codemirror_mode": {
    "name": "ipython",
    "version": 3
   },
   "file_extension": ".py",
   "mimetype": "text/x-python",
   "name": "python",
   "nbconvert_exporter": "python",
   "pygments_lexer": "ipython3",
   "version": "3.7.6"
  }
 },
 "nbformat": 4,
 "nbformat_minor": 4
}
